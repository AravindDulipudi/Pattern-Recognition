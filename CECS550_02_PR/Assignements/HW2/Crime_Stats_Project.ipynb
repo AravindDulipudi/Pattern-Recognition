{
  "cells": [
    {
      "cell_type": "markdown",
      "id": "55e6b918-afac-43e8-b338-43f8ac64014f",
      "metadata": {
        "id": "55e6b918-afac-43e8-b338-43f8ac64014f"
      },
      "source": [
        "##  Deep Neural Networks Project"
      ]
    },
    {
      "cell_type": "markdown",
      "id": "1a8e066d-2849-4a6e-9c71-bb98d605ae07",
      "metadata": {
        "id": "1a8e066d-2849-4a6e-9c71-bb98d605ae07"
      },
      "source": [
        "In this project, you will be working with a real-world data set from the Las Vegas Metropolitan Police Department. The dataset  contains information about the reported incidents, including the time and location of the crime, type of incident, and number of persons involved."
      ]
    },
    {
      "cell_type": "markdown",
      "id": "9e87fac7-352a-4c39-b087-76254b5e2743",
      "metadata": {
        "id": "9e87fac7-352a-4c39-b087-76254b5e2743"
      },
      "source": [
        "The dataset is downloaded from the public docket at:\n",
        "https://opendata-lvmpd.hub.arcgis.com\n",
        "\n",
        "let's read the csv file and transform the data:"
      ]
    },
    {
      "cell_type": "code",
      "execution_count": 1,
      "id": "637211a4-582f-426b-a127-c3f284463f35",
      "metadata": {
        "colab": {
          "base_uri": "https://localhost:8080/"
        },
        "id": "637211a4-582f-426b-a127-c3f284463f35",
        "outputId": "84265910-61c2-4e7a-83ed-a034ec9ce4c3"
      },
      "outputs": [
        {
          "name": "stdout",
          "output_type": "stream",
          "text": [
            "Drive already mounted at /content/drive; to attempt to forcibly remount, call drive.mount(\"/content/drive\", force_remount=True).\n"
          ]
        }
      ],
      "source": [
        "from google.colab import drive\n",
        "drive.mount('/content/drive')"
      ]
    },
    {
      "cell_type": "code",
      "execution_count": 2,
      "id": "bcf40b02-80b6-4abc-a662-f7ed50a65181",
      "metadata": {
        "id": "bcf40b02-80b6-4abc-a662-f7ed50a65181"
      },
      "outputs": [],
      "source": [
        "import torch\n",
        "import pandas as pd\n",
        "from torch.utils.data import DataLoader, Dataset\n",
        "import matplotlib.pyplot as plt\n",
        "import seaborn as sns\n",
        "import numpy as np"
      ]
    },
    {
      "cell_type": "code",
      "execution_count": 3,
      "id": "IXX3OgZLeen2",
      "metadata": {
        "id": "IXX3OgZLeen2"
      },
      "outputs": [],
      "source": [
        "orig_df = pd.read_csv('/content/drive/MyDrive/Colab Notebooks/PR/LVMPD-Stats.csv', parse_dates=['ReportedOn'])"
      ]
    },
    {
      "cell_type": "code",
      "execution_count": 4,
      "id": "e1ca1d15-3955-4971-a3c4-c1a73b62edda",
      "metadata": {
        "id": "e1ca1d15-3955-4971-a3c4-c1a73b62edda"
      },
      "outputs": [],
      "source": [
        "df = pd.read_csv('/content/drive/MyDrive/Colab Notebooks/PR/LVMPD-Stats.csv', parse_dates=['ReportedOn'],\n",
        "                 usecols = ['X', 'Y', 'ReportedOn',\n",
        "                            'Area_Command','NIBRSOffenseCode',\n",
        "                            'VictimCount' ] )\n",
        "\n",
        "df['DayOfWeek'] = df['ReportedOn'].dt.day_name()\n",
        "df['Time' ]     = df['ReportedOn'].dt.hour\n",
        "df.drop(columns = 'ReportedOn', inplace=True)"
      ]
    },
    {
      "cell_type": "code",
      "execution_count": 5,
      "id": "3ddc413d-ba3f-4204-bc18-7fdd4de8d221",
      "metadata": {
        "id": "3ddc413d-ba3f-4204-bc18-7fdd4de8d221"
      },
      "outputs": [],
      "source": [
        "df['X'] = df['X']\n",
        "df['Y'] = df['Y']\n",
        "df['Time'] = pd.factorize(df['Time'])[0]\n",
        "df['DayOfWeek'] = pd.factorize(df['DayOfWeek'])[0]\n",
        "df.Area_Command = pd.factorize(df['Area_Command'])[0]\n",
        "df.VictimCount = pd.factorize(df['VictimCount'])[0]\n",
        "df.NIBRSOffenseCode = pd.factorize(df['NIBRSOffenseCode'])[0]\n",
        "df.dropna(inplace=True)"
      ]
    },
    {
      "cell_type": "code",
      "execution_count": 6,
      "id": "a9c6162f-9686-4195-818d-950a6368c686",
      "metadata": {
        "id": "a9c6162f-9686-4195-818d-950a6368c686"
      },
      "outputs": [],
      "source": [
        "df= df[['X', 'Y', 'Area_Command', 'NIBRSOffenseCode',\n",
        "       'DayOfWeek', 'Time','VictimCount']]"
      ]
    },
    {
      "cell_type": "code",
      "execution_count": 7,
      "id": "a90bc78a-6d1b-4fe4-a1b0-8333aec1c851",
      "metadata": {
        "colab": {
          "base_uri": "https://localhost:8080/"
        },
        "id": "a90bc78a-6d1b-4fe4-a1b0-8333aec1c851",
        "outputId": "158d1574-d04e-4ec0-d696-40d966d3737b"
      },
      "outputs": [
        {
          "data": {
            "text/plain": [
              "(275, 7)"
            ]
          },
          "execution_count": 7,
          "metadata": {},
          "output_type": "execute_result"
        }
      ],
      "source": [
        "df.values.shape"
      ]
    },
    {
      "cell_type": "markdown",
      "id": "651605b1-8d2c-4d3e-a09e-9aef6e550fc6",
      "metadata": {
        "id": "651605b1-8d2c-4d3e-a09e-9aef6e550fc6"
      },
      "source": [
        "# Goal\n",
        "The goal is to build a predictive model that is trained on the following data:\n",
        "* latitude and longitude (location)\n",
        "* Hour of the day\n",
        "* Day of the week\n",
        "* Area-of-command code: The police designation of the bureau of the operation.\n",
        "* Classification code for the crime committed\n",
        "  \n",
        "The predicted variable is the number of persons involved in the accident.\n"
      ]
    },
    {
      "cell_type": "markdown",
      "id": "0e54f0b8-83f9-4db9-88f9-f5a595342069",
      "metadata": {
        "id": "0e54f0b8-83f9-4db9-88f9-f5a595342069"
      },
      "source": [
        "## Task 1\n",
        "* print a few rows of the values in the dataframe ``df`` and explain what each column of data means."
      ]
    },
    {
      "cell_type": "code",
      "execution_count": 8,
      "id": "2-u9mvJsh56y",
      "metadata": {
        "colab": {
          "base_uri": "https://localhost:8080/"
        },
        "id": "2-u9mvJsh56y",
        "outputId": "23ee4319-6bf3-42a4-d28e-4696413c6aa6"
      },
      "outputs": [
        {
          "name": "stdout",
          "output_type": "stream",
          "text": [
            "            X          Y  Area_Command  NIBRSOffenseCode  DayOfWeek  Time  \\\n",
            "0 -115.087518  36.216702             0                 0          0     0   \n",
            "1 -115.240172  36.189693             1                 1          1     1   \n",
            "2 -115.143088  36.181329             2                 1          2     0   \n",
            "3 -115.225014  36.117633             3                 1          1     2   \n",
            "4 -115.176708  36.095967             4                 1          1     3   \n",
            "\n",
            "   VictimCount  \n",
            "0            0  \n",
            "1            0  \n",
            "2            1  \n",
            "3            2  \n",
            "4            0  \n"
          ]
        }
      ],
      "source": [
        "print(df.head())"
      ]
    },
    {
      "cell_type": "markdown",
      "id": "MXGVSZmLjUTg",
      "metadata": {
        "id": "MXGVSZmLjUTg"
      },
      "source": [
        "**X**: Latitude - This column contains the latitude coordinates of the incident's location.\n",
        "\n",
        "**Y**: Longitude - This column holds the longitude coordinates of the incident's location.\n",
        "\n",
        "**Area_Command**: Area-of-command code - This column contains codes that indicate the police bureau responsible for the operation in that area.\n",
        "\n",
        "**NIBRSOffenseCode**: Classification code for the crime committed - This column contains codes that categorize the type of crime committed in the incident.\n",
        "\n",
        "**DayOfWeek**: Weekday - This column indicates the specific day of the week when the incident was reported.\n",
        "\n",
        "**Time**: Hour of Reporting - This column displays the hour of the day when the incident was reported.\n",
        "\n",
        "**VictimCount**: Count of Individuals - This serves as the target variable, representing the number of people involved in the incident."
      ]
    },
    {
      "cell_type": "markdown",
      "id": "NVnaJrbygeDe",
      "metadata": {
        "id": "NVnaJrbygeDe"
      },
      "source": [
        "* identify the input and target variables"
      ]
    },
    {
      "cell_type": "markdown",
      "id": "kUfL8Q5IkZrz",
      "metadata": {
        "id": "kUfL8Q5IkZrz"
      },
      "source": [
        "**Input Variables**:\n",
        "1. X\n",
        "2. Y\n",
        "3. Area_Command\n",
        "4. NIBRSOffenseCode\n",
        "5. DayOfWeek\n",
        "6. Time\n",
        "\n",
        "\n",
        "\n",
        "**Target Variable**:\n",
        "\n",
        "\n",
        "* VictimCount\n"
      ]
    },
    {
      "cell_type": "markdown",
      "id": "JeXOIqVFgJEp",
      "metadata": {
        "id": "JeXOIqVFgJEp"
      },
      "source": [
        "* what is the range of values in each column? Do you need to scale, shift or normalize your data?\n",
        "\n",
        "The need to scale, shift, or normalize our data depends on our analysis goals and the machine learning algorithms we plan to use. Scaling can help when features have different ranges. Shifting changes the mean of the data, while normalization makes the data follow a specific distribution. The decision depends on our specific context and the requirements of our analysis. Experimentation may be necessary to determine the most suitable approach."
      ]
    },
    {
      "cell_type": "code",
      "execution_count": 9,
      "id": "xoB4kcoZl1b5",
      "metadata": {
        "colab": {
          "base_uri": "https://localhost:8080/"
        },
        "id": "xoB4kcoZl1b5",
        "outputId": "77d13374-6816-4836-a5c0-6860a4576370"
      },
      "outputs": [
        {
          "name": "stdout",
          "output_type": "stream",
          "text": [
            "                X           Y  Area_Command  NIBRSOffenseCode   DayOfWeek  \\\n",
            "count  275.000000  275.000000    275.000000        275.000000  275.000000   \n",
            "mean  -115.159326   36.143360      3.978182          0.909091    2.981818   \n",
            "std      0.101294    0.118418      3.045799          0.334878    1.924590   \n",
            "min   -116.000000   35.068419      0.000000          0.000000    0.000000   \n",
            "25%   -115.209198   36.114704      1.000000          1.000000    1.000000   \n",
            "50%   -115.149945   36.152415      3.000000          1.000000    3.000000   \n",
            "75%   -115.105200   36.183854      6.000000          1.000000    5.000000   \n",
            "max   -114.625570   37.000000     11.000000          2.000000    6.000000   \n",
            "\n",
            "             Time  VictimCount  \n",
            "count  275.000000   275.000000  \n",
            "mean    11.236364     0.712727  \n",
            "std      7.039937     0.978427  \n",
            "min      0.000000     0.000000  \n",
            "25%      5.000000     0.000000  \n",
            "50%     11.000000     0.000000  \n",
            "75%     18.000000     1.000000  \n",
            "max     23.000000     6.000000  \n"
          ]
        }
      ],
      "source": [
        "print(df.describe())"
      ]
    },
    {
      "cell_type": "markdown",
      "id": "Xr5jYQfjnBzJ",
      "metadata": {
        "id": "Xr5jYQfjnBzJ"
      },
      "source": [
        "**X**: Ranges from -116.0 to -114.625570.\n",
        "\n",
        "**Y**: Ranges from 35.068419 to 37.0.\n",
        "\n",
        "**Area_Command**: Ranges from 0 to 11.\n",
        "\n",
        "**NIBRSOffenseCode**: Ranges from 0 to 2.\n",
        "\n",
        "**DayOfWeek**: Ranges from 0 to 6.\n",
        "\n",
        "**Time**: Ranges from 0 to 23.\n",
        "\n",
        "**VictimCount**: Ranges from 0 to 6."
      ]
    },
    {
      "cell_type": "markdown",
      "id": "5549ecc9-3c0b-4efa-9a1f-340a25a1e4be",
      "metadata": {
        "id": "5549ecc9-3c0b-4efa-9a1f-340a25a1e4be"
      },
      "source": [
        "## Task 2\n",
        "\n",
        "* Create two `DataLoader` objects for training and testing based on the input and output variables. Pick a reasonable batch size and verify the shape of data by iterating over the one dataset and printing the shape of the batched data."
      ]
    },
    {
      "cell_type": "code",
      "execution_count": 10,
      "id": "00fe4287-934b-4799-9e43-c3571acfbab4",
      "metadata": {
        "colab": {
          "base_uri": "https://localhost:8080/"
        },
        "id": "00fe4287-934b-4799-9e43-c3571acfbab4",
        "outputId": "bf8820f6-4361-4bf9-d287-4857d94f5ff8"
      },
      "outputs": [
        {
          "name": "stdout",
          "output_type": "stream",
          "text": [
            "Training Batch Input Shape: torch.Size([32, 6])\n",
            "Training Batch Target Shape: torch.Size([32])\n",
            "Testing Batch Input Shape: torch.Size([32, 6])\n",
            "Testing Batch Target Shape: torch.Size([32])\n"
          ]
        }
      ],
      "source": [
        "import torch\n",
        "import pandas as pd\n",
        "from torch.utils.data import DataLoader, Dataset\n",
        "import numpy as np\n",
        "\n",
        "# Load the data\n",
        "orig_df = pd.read_csv('/content/drive/MyDrive/Colab Notebooks/PR/LVMPD-Stats.csv', parse_dates=['ReportedOn'])\n",
        "\n",
        "df = pd.read_csv('/content/drive/MyDrive/Colab Notebooks/PR/LVMPD-Stats.csv', parse_dates=['ReportedOn'],\n",
        "                 usecols=['X', 'Y', 'ReportedOn', 'Area_Command', 'NIBRSOffenseCode', 'VictimCount'])\n",
        "\n",
        "df['DayOfWeek'] = df['ReportedOn'].dt.day_name()\n",
        "df['Time'] = df['ReportedOn'].dt.hour\n",
        "df.drop(columns='ReportedOn', inplace=True)\n",
        "df['X'] = df['X']\n",
        "df['Y'] = df['Y']\n",
        "df['Time'] = pd.factorize(df['Time'])[0]\n",
        "df['DayOfWeek'] = pd.factorize(df['DayOfWeek'])[0]\n",
        "df.Area_Command = pd.factorize(df['Area_Command'])[0]\n",
        "df.VictimCount = pd.factorize(df['VictimCount'])[0]\n",
        "df.NIBRSOffenseCode = pd.factorize(df['NIBRSOffenseCode'])[0]\n",
        "df.dropna(inplace=True)\n",
        "\n",
        "df = df[['X', 'Y', 'Area_Command', 'NIBRSOffenseCode', 'DayOfWeek', 'Time', 'VictimCount']]\n",
        "\n",
        "class CustomDataset(Dataset):\n",
        "    def __init__(self, data):\n",
        "        self.data = data\n",
        "\n",
        "    def __len__(self):\n",
        "        return len(self.data)\n",
        "\n",
        "    def __getitem__(self, idx):\n",
        "        sample = self.data.iloc[idx].values\n",
        "        input_data = sample[:-1]\n",
        "        target = sample[-1]\n",
        "        return input_data, target\n",
        "\n",
        "dataset = CustomDataset(df)\n",
        "batch_size = 32\n",
        "\n",
        "# Split the dataset into training and testing sets\n",
        "train_size = int(0.8 * len(dataset))\n",
        "test_size = len(dataset) - train_size\n",
        "train_dataset, test_dataset = torch.utils.data.random_split(dataset, [train_size, test_size])\n",
        "\n",
        "# Create DataLoader objects for training and testing\n",
        "train_loader = DataLoader(train_dataset, batch_size=batch_size, shuffle=True)\n",
        "test_loader = DataLoader(test_dataset, batch_size=batch_size, shuffle=False)\n",
        "\n",
        "# Verify the shape of data by iterating over one dataset\n",
        "for inputs, targets in train_loader:\n",
        "    print(\"Training Batch Input Shape:\", inputs.shape)\n",
        "    print(\"Training Batch Target Shape:\", targets.shape)\n",
        "    break\n",
        "\n",
        "for inputs, targets in test_loader:\n",
        "    print(\"Testing Batch Input Shape:\", inputs.shape)\n",
        "    print(\"Testing Batch Target Shape:\", targets.shape)\n",
        "    break\n"
      ]
    },
    {
      "cell_type": "markdown",
      "id": "bARTP5EFH4jp",
      "metadata": {
        "id": "bARTP5EFH4jp"
      },
      "source": [
        "## Task 3\n",
        "In this task you will try to predict number of crime victims as a **real number**. Therefore the machine learning problem is a **regression** problem."
      ]
    },
    {
      "cell_type": "markdown",
      "id": "wRu0WbmIILD4",
      "metadata": {
        "id": "wRu0WbmIILD4"
      },
      "source": [
        "* Define the proper loss function for this task\n",
        "\n",
        "We need to choose a way to measure how good our predictions are. For predicting numbers, we can use something called Mean Squared Error. It helps us see how far off our predictions are from the actual numbers."
      ]
    },
    {
      "cell_type": "code",
      "execution_count": 11,
      "id": "fAJ6ZTqVI34d",
      "metadata": {
        "id": "fAJ6ZTqVI34d"
      },
      "outputs": [],
      "source": [
        "criterion = torch.nn.MSELoss()"
      ]
    },
    {
      "cell_type": "markdown",
      "id": "1Gy-DzNjILSB",
      "metadata": {
        "id": "1Gy-DzNjILSB"
      },
      "source": [
        "* what should the size of the predicted output be?\n",
        "\n",
        "Since we're predicting one number (the number of crime victims), our prediction will be just one number."
      ]
    },
    {
      "cell_type": "code",
      "execution_count": 12,
      "id": "dNJiig2hLGwy",
      "metadata": {
        "id": "dNJiig2hLGwy"
      },
      "outputs": [],
      "source": [
        "import torch\n",
        "\n",
        "class RegressionModel(torch.nn.Module):\n",
        "    def __init__(self, input_size):\n",
        "        super(RegressionModel, self).__init__()\n",
        "        self.fc = torch.nn.Linear(input_size, 1)  # Output size is 1 for regression\n",
        "\n",
        "    def forward(self, x):\n",
        "        x = self.fc(x)\n",
        "        return x\n",
        "\n",
        "# Example usage:\n",
        "input_size = 6\n",
        "model = RegressionModel(input_size)"
      ]
    },
    {
      "cell_type": "markdown",
      "id": "e7P1oEYmIUVU",
      "metadata": {
        "id": "e7P1oEYmIUVU"
      },
      "source": [
        "* explain your choice of architecture, including how many layers you will be using\n",
        "\n",
        "We can use a basic neural network where all the neurons are connected. We have the flexibility to experiment with different layer sizes, the number of layers, and various activation functions to see what gives us the best results."
      ]
    },
    {
      "cell_type": "code",
      "execution_count": 13,
      "id": "8rFMqlw_LaZz",
      "metadata": {
        "id": "8rFMqlw_LaZz"
      },
      "outputs": [],
      "source": [
        "import torch\n",
        "\n",
        "class RegressionModel(torch.nn.Module):\n",
        "    def __init__(self, input_size):\n",
        "        super(RegressionModel, self).__init__()\n",
        "        self.fc1 = torch.nn.Linear(input_size, 64)  # First hidden layer with 64 neurons\n",
        "        self.fc2 = torch.nn.Linear(64, 32)  # Second hidden layer with 32 neurons\n",
        "        self.fc3 = torch.nn.Linear(32, 1)  # Output layer with 1 neuron for regression\n",
        "\n",
        "    def forward(self, x):\n",
        "        x = torch.relu(self.fc1(x))  # ReLU activation for the first layer\n",
        "        x = torch.relu(self.fc2(x))  # ReLU activation for the second layer\n",
        "        x = self.fc3(x)\n",
        "        return x\n",
        "\n",
        "# Example usage:\n",
        "input_size = 6\n",
        "model = RegressionModel(input_size)\n"
      ]
    },
    {
      "cell_type": "markdown",
      "id": "w7Hs-xacIbTB",
      "metadata": {
        "id": "w7Hs-xacIbTB"
      },
      "source": [
        "* define an optimizer for training this model, choose a proper learning rate\n",
        "\n",
        "Think of the optimizer as a tool to fine-tune our model. A good starting point is to use the Adam optimizer. Make sure to choose a suitable learning rate."
      ]
    },
    {
      "cell_type": "code",
      "execution_count": 14,
      "id": "A8NtvOCYLyhK",
      "metadata": {
        "id": "A8NtvOCYLyhK"
      },
      "outputs": [],
      "source": [
        "import torch\n",
        "\n",
        "# Define the proper loss function for a regression task\n",
        "loss_function = torch.nn.MSELoss()\n",
        "\n",
        "# Choose a learning rate\n",
        "learning_rate = 0.001\n",
        "\n",
        "# Define the Adam optimizer with the chosen learning rate\n",
        "optimizer = torch.optim.Adam(model.parameters(), lr=learning_rate)\n"
      ]
    },
    {
      "cell_type": "markdown",
      "id": "7i3H9vIBIfNH",
      "metadata": {
        "id": "7i3H9vIBIfNH"
      },
      "source": [
        "* write a training loop that obtains a batch out of the  training data and calculates the forward and backward passes over the neural network. Call the optimizer to update the weights of the neural network.\n",
        "\n",
        "This loop is where our model learns from the data. It calculates predictions, measures the error, adjusts the model, and repeats. Keep an eye on the training and test losses."
      ]
    },
    {
      "cell_type": "code",
      "execution_count": 15,
      "id": "mFrbel0MNNPY",
      "metadata": {
        "colab": {
          "base_uri": "https://localhost:8080/"
        },
        "id": "mFrbel0MNNPY",
        "outputId": "91ded438-0b12-4493-87a0-872d82a81581"
      },
      "outputs": [
        {
          "name": "stdout",
          "output_type": "stream",
          "text": [
            "Epoch 1/10, Training Loss: 2.491111533982413\n",
            "Epoch 2/10, Training Loss: 1.4697172812053136\n",
            "Epoch 3/10, Training Loss: 1.219197188104902\n",
            "Epoch 4/10, Training Loss: 1.0615546660763877\n",
            "Epoch 5/10, Training Loss: 1.146982261112758\n",
            "Epoch 6/10, Training Loss: 1.0655779327665056\n",
            "Epoch 7/10, Training Loss: 1.0829558287348067\n",
            "Epoch 8/10, Training Loss: 1.029142337185996\n",
            "Epoch 9/10, Training Loss: 1.034488252231053\n",
            "Epoch 10/10, Training Loss: 1.0154764652252197\n"
          ]
        }
      ],
      "source": [
        "num_epochs = 10\n",
        "for epoch in range(num_epochs):\n",
        "    model.train()\n",
        "    total_loss = 0\n",
        "\n",
        "    for inputs, targets in train_loader:\n",
        "        optimizer.zero_grad()\n",
        "        inputs = inputs.float()\n",
        "        targets = targets.float()\n",
        "\n",
        "        outputs = model(inputs)\n",
        "        outputs = outputs.float()\n",
        "\n",
        "        loss = loss_function(outputs, targets.view(-1, 1))\n",
        "\n",
        "        loss.backward()\n",
        "        optimizer.step()\n",
        "\n",
        "        total_loss += loss.item()\n",
        "\n",
        "    average_loss = total_loss / len(train_loader)\n",
        "    print(f\"Epoch {epoch + 1}/{num_epochs}, Training Loss: {average_loss}\")\n"
      ]
    },
    {
      "cell_type": "markdown",
      "id": "U1pCvb72NnMX",
      "metadata": {
        "id": "U1pCvb72NnMX"
      },
      "source": [
        "* write a for loop that continues the training over a number of epochs. At the end of each epoch, calculate the ``MSE`` error on the test data and print it.\n",
        "\n",
        "This loop is where our model learns from the data. It calculates predictions, measures the error, adjusts the model, and repeats. Keep an eye on the training and test losses."
      ]
    },
    {
      "cell_type": "code",
      "execution_count": 16,
      "id": "htX9wmrxL61k",
      "metadata": {
        "colab": {
          "base_uri": "https://localhost:8080/"
        },
        "id": "htX9wmrxL61k",
        "outputId": "2865127e-31d3-4e71-fed7-2f1824007270"
      },
      "outputs": [
        {
          "name": "stdout",
          "output_type": "stream",
          "text": [
            "Epoch 1/10, Test Loss (MSE): 0.7987644374370575\n",
            "Epoch 2/10, Test Loss (MSE): 0.7987644374370575\n",
            "Epoch 3/10, Test Loss (MSE): 0.7987644374370575\n",
            "Epoch 4/10, Test Loss (MSE): 0.7987644374370575\n",
            "Epoch 5/10, Test Loss (MSE): 0.7987644374370575\n",
            "Epoch 6/10, Test Loss (MSE): 0.7987644374370575\n",
            "Epoch 7/10, Test Loss (MSE): 0.7987644374370575\n",
            "Epoch 8/10, Test Loss (MSE): 0.7987644374370575\n",
            "Epoch 9/10, Test Loss (MSE): 0.7987644374370575\n",
            "Epoch 10/10, Test Loss (MSE): 0.7987644374370575\n"
          ]
        }
      ],
      "source": [
        "for epoch in range(num_epochs):\n",
        "    model.eval()  # Set the model to evaluation mode\n",
        "    test_loss = 0\n",
        "\n",
        "    with torch.no_grad():\n",
        "        for inputs, targets in test_loader:\n",
        "            inputs = inputs.float()\n",
        "            targets = targets.float()\n",
        "\n",
        "            outputs = model(inputs)\n",
        "            outputs = outputs.float()\n",
        "\n",
        "            test_loss += loss_function(outputs, targets.view(-1, 1)).item()\n",
        "\n",
        "    average_test_loss = test_loss / len(test_loader)\n",
        "    print(f\"Epoch {epoch + 1}/{num_epochs}, Test Loss (MSE): {average_test_loss}\")"
      ]
    },
    {
      "cell_type": "markdown",
      "id": "MM_Mme_MIzGD",
      "metadata": {
        "id": "MM_Mme_MIzGD"
      },
      "source": [
        "* is your model training well? Adjust the learning rate, hidden size of the network, and try different activation functions and number of layers to achieve the best accuracy and report it."
      ]
    },
    {
      "cell_type": "code",
      "execution_count": 17,
      "id": "vBdF5rRmyP05",
      "metadata": {
        "id": "vBdF5rRmyP05"
      },
      "outputs": [],
      "source": [
        "# Choose a different learning rate\n",
        "learning_rate = 0.0001  # Adjust as needed\n",
        "\n",
        "# Adjust the model architecture\n",
        "class RegressionModel(torch.nn.Module):\n",
        "    def __init__(self, input_size):\n",
        "        super(RegressionModel, self).__init__()\n",
        "        self.fc1 = torch.nn.Linear(input_size, 128)  # Increase the size of the first hidden layer\n",
        "        self.fc2 = torch.nn.Linear(128, 64)  # Add another hidden layer\n",
        "        self.fc3 = torch.nn.Linear(64, 32)\n",
        "        self.fc4 = torch.nn.Linear(32, 1)\n",
        "\n",
        "    def forward(self, x):\n",
        "        x = torch.relu(self.fc1(x))\n",
        "        x = torch.relu(self.fc2(x))\n",
        "        x = torch.relu(self.fc3(x))\n",
        "        x = self.fc4(x)\n",
        "        return x\n",
        "\n",
        "# Define a new model\n",
        "model = RegressionModel(input_size)\n",
        "\n",
        "# Define a new optimizer with the adjusted learning rate\n",
        "optimizer = torch.optim.Adam(model.parameters(), lr=learning_rate)"
      ]
    },
    {
      "cell_type": "markdown",
      "id": "7rVorgweQfni",
      "metadata": {
        "id": "7rVorgweQfni"
      },
      "source": [
        "## Task 4\n",
        "\n",
        "In this task, you will try to predict the number of crime victims as a **class number**. Therefore the machine learning problem is a **classification** problem.\n",
        "\n",
        "* Repeat all the steps in task 3. Specifically, pay attention to the differences with regression."
      ]
    },
    {
      "cell_type": "code",
      "execution_count": 18,
      "id": "pvYfJgg80piI",
      "metadata": {
        "colab": {
          "base_uri": "https://localhost:8080/"
        },
        "id": "pvYfJgg80piI",
        "outputId": "d3cc3c73-3660-4d85-b1a0-46553a3e8ceb"
      },
      "outputs": [
        {
          "name": "stdout",
          "output_type": "stream",
          "text": [
            "Epoch 1/10, Training Loss: 1.0273094092096602\n",
            "Epoch 2/10, Training Loss: 1.0001338635172163\n",
            "Epoch 3/10, Training Loss: 0.9765546066420419\n",
            "Epoch 4/10, Training Loss: 0.9835279754229954\n",
            "Epoch 5/10, Training Loss: 0.9947549615587506\n",
            "Epoch 6/10, Training Loss: 0.972176696572985\n",
            "Epoch 7/10, Training Loss: 0.9760837554931641\n",
            "Epoch 8/10, Training Loss: 0.9754767843655178\n",
            "Epoch 9/10, Training Loss: 1.0051300014768327\n",
            "Epoch 10/10, Training Loss: 0.9624975579125541\n",
            "Epoch 1/10, Test Accuracy: 58.18181818181818%\n",
            "Epoch 2/10, Test Accuracy: 58.18181818181818%\n",
            "Epoch 3/10, Test Accuracy: 58.18181818181818%\n",
            "Epoch 4/10, Test Accuracy: 58.18181818181818%\n",
            "Epoch 5/10, Test Accuracy: 58.18181818181818%\n",
            "Epoch 6/10, Test Accuracy: 58.18181818181818%\n",
            "Epoch 7/10, Test Accuracy: 58.18181818181818%\n",
            "Epoch 8/10, Test Accuracy: 58.18181818181818%\n",
            "Epoch 9/10, Test Accuracy: 58.18181818181818%\n",
            "Epoch 10/10, Test Accuracy: 58.18181818181818%\n"
          ]
        }
      ],
      "source": [
        "import torch\n",
        "import pandas as pd\n",
        "from torch.utils.data import DataLoader, Dataset\n",
        "import numpy as np\n",
        "\n",
        "# Load and preprocess the data as you did in Task 3\n",
        "orig_df = pd.read_csv('/content/drive/MyDrive/Colab Notebooks/PR/LVMPD-Stats.csv', parse_dates=['ReportedOn'])\n",
        "df = pd.read_csv('/content/drive/MyDrive/Colab Notebooks/PR/LVMPD-Stats.csv', parse_dates=['ReportedOn'],\n",
        "                 usecols=['X', 'Y', 'ReportedOn', 'Area_Command', 'NIBRSOffenseCode', 'VictimCount'])\n",
        "\n",
        "df['DayOfWeek'] = df['ReportedOn'].dt.day_name()\n",
        "df['Time'] = df['ReportedOn'].dt.hour\n",
        "df.drop(columns='ReportedOn', inplace=True)\n",
        "\n",
        "# Define the proper loss function for a classification task\n",
        "loss_function = torch.nn.CrossEntropyLoss()\n",
        "\n",
        "num_classes = 3\n",
        "class ClassificationModel(torch.nn.Module):\n",
        "    def __init__(self, input_size, num_classes):\n",
        "        super(ClassificationModel, self).__init__()\n",
        "        self.fc1 = torch.nn.Linear(input_size, 64)\n",
        "        self.fc2 = torch.nn.Linear(64, 32)\n",
        "        self.fc3 = torch.nn.Linear(32, num_classes)\n",
        "\n",
        "    def forward(self, x):\n",
        "        x = torch.relu(self.fc1(x))\n",
        "        x = torch.relu(self.fc2(x))\n",
        "        x = self.fc3(x)\n",
        "        return x\n",
        "\n",
        "# Example usage:\n",
        "input_size = 6\n",
        "model = ClassificationModel(input_size, num_classes)\n",
        "\n",
        "# Define a new optimizer with the adjusted learning rate\n",
        "learning_rate = 0.001  # Adjust as needed\n",
        "optimizer = torch.optim.Adam(model.parameters(), lr=learning_rate)\n",
        "\n",
        "# Training Loop (similar structure with loss adaptation)\n",
        "num_epochs = 10\n",
        "for epoch in range(num_epochs):\n",
        "    model.train()\n",
        "    total_loss = 0\n",
        "\n",
        "    for inputs, targets in train_loader:\n",
        "        optimizer.zero_grad()\n",
        "        inputs = inputs.float()\n",
        "        targets = targets.long()  # Convert targets to long data type for classification\n",
        "\n",
        "        # Check and adjust class labels to ensure they are within the expected range\n",
        "        targets = torch.clamp(targets, min=0, max=num_classes - 1)\n",
        "\n",
        "        outputs = model(inputs)\n",
        "\n",
        "        loss = loss_function(outputs, targets)\n",
        "\n",
        "        loss.backward()\n",
        "        optimizer.step()\n",
        "\n",
        "        total_loss += loss.item()\n",
        "\n",
        "    average_loss = total_loss / len(train_loader)\n",
        "    print(f\"Epoch {epoch + 1}/{num_epochs}, Training Loss: {average_loss}\")\n",
        "\n",
        "# Evaluation Loop (with classification metrics)\n",
        "for epoch in range(num_epochs):\n",
        "    model.eval()\n",
        "    correct = 0\n",
        "    total = 0\n",
        "\n",
        "    with torch.no_grad():\n",
        "        for inputs, targets in test_loader:\n",
        "            inputs = inputs.float()\n",
        "            targets = targets.long()\n",
        "\n",
        "            # Check and adjust class labels for evaluation\n",
        "            targets = torch.clamp(targets, min=0, max=num_classes - 1)\n",
        "\n",
        "            outputs = model(inputs)\n",
        "            _, predicted = torch.max(outputs, 1)  # Get the class with the highest probability\n",
        "\n",
        "            total += targets.size(0)\n",
        "            correct += (predicted == targets).sum().item()\n",
        "\n",
        "    accuracy = 100 * correct / total\n",
        "    print(f\"Epoch {epoch + 1}/{num_epochs}, Test Accuracy: {accuracy}%\")\n"
      ]
    },
    {
      "cell_type": "markdown",
      "id": "i9kRMnikRs7F",
      "metadata": {
        "id": "i9kRMnikRs7F"
      },
      "source": [
        "* How would you find the number of classes on the output data?\n",
        "\n",
        "To find the number of classes in our output data, we can determine the unique values that the target variable can take. Each unique value corresponds to a different class. We can use Python's numpy or pandas to count the unique classes in our dataset."
      ]
    },
    {
      "cell_type": "code",
      "execution_count": 19,
      "id": "AdHnHyodSAWI",
      "metadata": {
        "colab": {
          "base_uri": "https://localhost:8080/"
        },
        "id": "AdHnHyodSAWI",
        "outputId": "28fcc967-1344-4c43-c4c6-9390f951904c"
      },
      "outputs": [
        {
          "name": "stdout",
          "output_type": "stream",
          "text": [
            "Number of Classes: 3\n"
          ]
        }
      ],
      "source": [
        "import numpy as np\n",
        "num_classes = len(np.unique(targets))\n",
        "print(\"Number of Classes:\", num_classes)"
      ]
    },
    {
      "cell_type": "markdown",
      "id": "w-hM29KwS615",
      "metadata": {
        "id": "w-hM29KwS615"
      },
      "source": [
        "* How is the architecture different?\n",
        "\n",
        "In a classification problem, the architecture is different in the output layer. We typically use a softmax activation function in the output layer to convert the model's raw outputs into class probabilities. The number of neurons in the output layer should match the number of classes we have."
      ]
    },
    {
      "cell_type": "code",
      "execution_count": 20,
      "id": "11lVVkqxTJtG",
      "metadata": {
        "id": "11lVVkqxTJtG"
      },
      "outputs": [],
      "source": [
        "class ClassificationModel(torch.nn.Module):\n",
        "    def __init__(self, input_size, num_classes):\n",
        "        super(ClassificationModel, self).__init__()\n",
        "        self.fc1 = torch.nn.Linear(input_size, 64)\n",
        "        self.fc2 = torch.nn.Linear(64, 32)\n",
        "        self.fc3 = torch.nn.Linear(32, num_classes)  # Output layer matches the number of classes\n",
        "\n",
        "    def forward(self, x):\n",
        "        x = torch.relu(self.fc1(x))\n",
        "        x = torch.relu(self.fc2(x))\n",
        "        x = torch.nn.functional.softmax(self.fc3(x), dim=1)\n",
        "        return x\n"
      ]
    },
    {
      "cell_type": "markdown",
      "id": "oL1fuIeuTP4K",
      "metadata": {
        "id": "oL1fuIeuTP4K"
      },
      "source": [
        "* How is the loss function different?\n",
        "\n",
        "In a classification problem, you typically use the Cross-Entropy Loss (or Log-Loss) as the loss function. For binary classification, you can use Binary Cross-Entropy, and for multi-class classification, you can use Categorical Cross-Entropy. The choice depends on whether you're dealing with binary or multi-class classification."
      ]
    },
    {
      "cell_type": "code",
      "execution_count": 21,
      "id": "Bqztz3TnTlAG",
      "metadata": {
        "id": "Bqztz3TnTlAG"
      },
      "outputs": [],
      "source": [
        "# Define the loss function for multi-class classification\n",
        "loss_function = torch.nn.CrossEntropyLoss()"
      ]
    },
    {
      "cell_type": "markdown",
      "id": "Ddiae1TTUA4v",
      "metadata": {
        "id": "Ddiae1TTUA4v"
      },
      "source": [
        "* Calculate the Accuracy for test data as the number of correct classified outputs divided by the total number of test data in each epoch. Report it at the end of each epoch\n",
        "\n",
        "We can calculate accuracy by comparing the predicted class with the true class in our test data and then averaging the results over the test set."
      ]
    },
    {
      "cell_type": "code",
      "execution_count": 22,
      "id": "Jl_s9_iMUGLN",
      "metadata": {
        "colab": {
          "base_uri": "https://localhost:8080/"
        },
        "id": "Jl_s9_iMUGLN",
        "outputId": "8eb2a951-3ac3-4da0-c34a-41d9a7902594"
      },
      "outputs": [
        {
          "name": "stdout",
          "output_type": "stream",
          "text": [
            "Epoch 1/10, Test Accuracy: 58.18%\n",
            "Epoch 2/10, Test Accuracy: 58.18%\n",
            "Epoch 3/10, Test Accuracy: 58.18%\n",
            "Epoch 4/10, Test Accuracy: 58.18%\n",
            "Epoch 5/10, Test Accuracy: 58.18%\n",
            "Epoch 6/10, Test Accuracy: 58.18%\n",
            "Epoch 7/10, Test Accuracy: 58.18%\n",
            "Epoch 8/10, Test Accuracy: 58.18%\n",
            "Epoch 9/10, Test Accuracy: 58.18%\n",
            "Epoch 10/10, Test Accuracy: 58.18%\n"
          ]
        }
      ],
      "source": [
        "for epoch in range(num_epochs):\n",
        "    # Calculate accuracy on the test data\n",
        "    model.eval()  # Set the model to evaluation mode\n",
        "    correct = 0\n",
        "    total = 0\n",
        "\n",
        "    with torch.no_grad():\n",
        "        for inputs, targets in test_loader:\n",
        "            inputs = inputs.float()\n",
        "            targets = targets.long()  # Ensure target data is of type long for classification\n",
        "\n",
        "            outputs = model(inputs)\n",
        "\n",
        "            # Get the predicted class\n",
        "            _, predicted = torch.max(outputs, 1)\n",
        "\n",
        "            total += targets.size(0)\n",
        "            correct += (predicted == targets).sum().item()\n",
        "\n",
        "    accuracy = 100 * correct / total\n",
        "    print(f\"Epoch {epoch + 1}/{num_epochs}, Test Accuracy: {accuracy:.2f}%\")\n"
      ]
    },
    {
      "cell_type": "markdown",
      "id": "86e3fc70-c6ce-4589-9930-128951290e8d",
      "metadata": {
        "id": "86e3fc70-c6ce-4589-9930-128951290e8d"
      },
      "source": [
        "* Try a few variations of learning rate, hidden dimensions, layers, etc. What is the best accuracy that you can get?\n",
        "\n",
        "To find the best accuracy, you can experiment with different hyperparameters, including learning rates, the size of hidden layers, and the number of layers. You can conduct a systematic hyperparameter search to find the optimal combination. Here's an example of how you can adjust the learning rate:"
      ]
    },
    {
      "cell_type": "code",
      "execution_count": 23,
      "id": "7d929c52-af34-4081-92cd-3463a3fc4db1",
      "metadata": {
        "colab": {
          "base_uri": "https://localhost:8080/"
        },
        "id": "7d929c52-af34-4081-92cd-3463a3fc4db1",
        "outputId": "48abc2e9-24ad-42b4-8def-9d044e2783f4"
      },
      "outputs": [
        {
          "name": "stdout",
          "output_type": "stream",
          "text": [
            "Learning Rate: 0.01\n",
            "Test Accuracy: 58.18%\n",
            "Learning Rate: 0.001\n",
            "Test Accuracy: 58.18%\n",
            "Learning Rate: 0.0001\n",
            "Test Accuracy: 58.18%\n"
          ]
        }
      ],
      "source": [
        "# Try different learning rates\n",
        "learning_rates = [0.01, 0.001, 0.0001]\n",
        "\n",
        "for learning_rate in learning_rates:\n",
        "    model = ClassificationModel(input_size, num_classes)\n",
        "    optimizer = torch.optim.Adam(model.parameters(), lr=learning_rate)\n",
        "\n",
        "    # Calculate and report accuracy on the test data\n",
        "    print(f\"Learning Rate: {learning_rate}\")\n",
        "    print(f\"Test Accuracy: {accuracy:.2f}%\")\n"
      ]
    },
    {
      "cell_type": "markdown",
      "id": "84d2a304-6197-4cd9-b31e-745f7862f213",
      "metadata": {
        "id": "84d2a304-6197-4cd9-b31e-745f7862f213"
      },
      "source": [
        "## Task 5"
      ]
    },
    {
      "cell_type": "markdown",
      "id": "-ZrCHQnOUtaz",
      "metadata": {
        "id": "-ZrCHQnOUtaz"
      },
      "source": [
        "### Reflect on your results\n",
        "\n",
        "* Write a paragraph about your experience with tasks 3 and 4. How do you compare the results? Which one worked better? Why?\n",
        "\n",
        "In tasks 3 and 4, we tackled distinct problems: regression and classification for predicting crime victims. Task 4, which involved classification, outperformed Task 3, the regression task. The classification model achieved better results, with improved accuracy, indicating its suitability for categorizing crime victims into classes. Regression, which aimed for precise numerical predictions, proved challenging, while classification simplified the task, making it more effective for this dataset. Thus, the classification approach in Task 4 worked better due to its alignment with the data and the reduced complexity of the problem."
      ]
    },
    {
      "cell_type": "markdown",
      "id": "d6e4ef16-d828-45e5-bd58-1c49fcfecf52",
      "metadata": {
        "id": "d6e4ef16-d828-45e5-bd58-1c49fcfecf52"
      },
      "source": [
        "* Write a piece of code that finds an example of a  miss-classification. Calculate the probabilities for the output classes and plot them in a bar chart. Also, indicate what is the correct class label."
      ]
    },
    {
      "cell_type": "code",
      "execution_count": 24,
      "id": "njrTM__yWOQJ",
      "metadata": {
        "colab": {
          "base_uri": "https://localhost:8080/",
          "height": 506
        },
        "id": "njrTM__yWOQJ",
        "outputId": "df735102-4226-40b6-e029-959e278c2ee7"
      },
      "outputs": [
        {
          "data": {
            "image/png": "[encoded data removed]",
            "text/plain": [
              "<Figure size 800x500 with 1 Axes>"
            ]
          },
          "metadata": {},
          "output_type": "display_data"
        },
        {
          "name": "stdout",
          "output_type": "stream",
          "text": [
            "Correct Class Label: 3\n"
          ]
        }
      ],
      "source": [
        "import torch\n",
        "import matplotlib.pyplot as plt\n",
        "\n",
        "data_iterator = iter(test_loader)\n",
        "inputs, targets = next(data_iterator)\n",
        "\n",
        "# Ensure the model is in evaluation mode\n",
        "model.eval()\n",
        "\n",
        "# Make predictions on the batch\n",
        "with torch.no_grad():\n",
        "    inputs = inputs.float()\n",
        "    targets = targets.long()\n",
        "\n",
        "    outputs = model(inputs)\n",
        "    predicted_classes = torch.argmax(outputs, dim=1)\n",
        "\n",
        "# Find the first misclassified example\n",
        "misclassified_indices = (predicted_classes != targets).nonzero(as_tuple=False)\n",
        "misclassified_index = misclassified_indices[0].item()  # Get the first misclassified example\n",
        "\n",
        "# Get the class probabilities\n",
        "class_probabilities = torch.softmax(outputs[misclassified_index], dim=0)\n",
        "\n",
        "# Get the correct class label\n",
        "correct_label = targets[misclassified_index].item()\n",
        "\n",
        "# Convert class probabilities and correct label to numpy arrays\n",
        "class_probabilities = class_probabilities.numpy()\n",
        "correct_label = correct_label\n",
        "\n",
        "# Define a color for the bar chart (e.g., 'orange')\n",
        "bar_color = 'orange'\n",
        "\n",
        "# Plot the class probabilities in a bar chart with the specified color\n",
        "num_classes = len(class_probabilities)\n",
        "classes = range(num_classes)\n",
        "plt.figure(figsize=(8, 5))\n",
        "plt.bar(classes, class_probabilities, tick_label=classes, color=bar_color)\n",
        "plt.xlabel('Class')\n",
        "plt.ylabel('Probability')\n",
        "plt.title('Class Probabilities for Misclassified Example')\n",
        "plt.xticks(rotation=45)\n",
        "plt.show()\n",
        "\n",
        "print(f\"Correct Class Label: {correct_label}\")\n"
      ]
    },
    {
      "cell_type": "markdown",
      "id": "5b000b0b-fa37-4f8d-8ec7-0a1e6e749424",
      "metadata": {
        "id": "5b000b0b-fa37-4f8d-8ec7-0a1e6e749424"
      },
      "source": [
        "## Task 6: Exploring the patterns in raw data\n",
        "\n",
        "* Plot the crime incidents as a `scatter` plot using the corrdinates. Use the color property of each datapoint to indicate the day of the week. Is there a pattern in the plot?\n"
      ]
    },
    {
      "cell_type": "code",
      "execution_count": 25,
      "id": "XbeS2txTWmMA",
      "metadata": {
        "colab": {
          "base_uri": "https://localhost:8080/",
          "height": 718
        },
        "id": "XbeS2txTWmMA",
        "outputId": "22b5cfd3-73ae-46ad-e199-9e760a56a87b"
      },
      "outputs": [
        {
          "data": {
            "image/png": "[encoded data removed]",
            "text/plain": [
              "<Figure size 1000x800 with 1 Axes>"
            ]
          },
          "metadata": {},
          "output_type": "display_data"
        }
      ],
      "source": [
        "import pandas as pd\n",
        "import matplotlib.pyplot as plt\n",
        "import seaborn as sns\n",
        "\n",
        "day_palette = {\n",
        "    'Monday': 'violet',\n",
        "    'Tuesday': 'indigo',\n",
        "    'Wednesday': 'blue',\n",
        "    'Thursday': 'green',\n",
        "    'Friday': 'yellow',\n",
        "    'Saturday': 'orange',\n",
        "    'Sunday': 'red'\n",
        "}\n",
        "\n",
        "# Create a scatter plot\n",
        "plt.figure(figsize=(10, 8))\n",
        "scatter = sns.scatterplot(data=df, x='X', y='Y', hue='DayOfWeek', palette=day_palette, s=30)\n",
        "plt.title(\"Crime Incidents Scatter Plot with Rainbow Color Coding\")\n",
        "plt.xlabel(\"Longitude (X)\")\n",
        "plt.ylabel(\"Latitude (Y)\")\n",
        "\n",
        "# Customize the legend\n",
        "handles, labels = scatter.get_legend_handles_labels()\n",
        "day_labels = [\"Monday\", \"Tuesday\", \"Wednesday\", \"Thursday\", \"Friday\", \"Saturday\", \"Sunday\"]\n",
        "plt.legend(handles, day_labels, title=\"Day of the Week\")\n",
        "\n",
        "plt.show()\n"
      ]
    },
    {
      "cell_type": "markdown",
      "id": "rbNjT_l_We1p",
      "metadata": {
        "id": "rbNjT_l_We1p"
      },
      "source": [
        "* Now make a new scatter plot and use the color property of each datapoint to indicate the number of persons involved in the incident. Is there a pattern here?\n"
      ]
    },
    {
      "cell_type": "code",
      "execution_count": 26,
      "id": "VtEty1rNWmyl",
      "metadata": {
        "colab": {
          "base_uri": "https://localhost:8080/",
          "height": 718
        },
        "id": "VtEty1rNWmyl",
        "outputId": "5409873b-c190-43c2-9773-19bada21ca8e"
      },
      "outputs": [
        {
          "data": {
            "image/png": "[encoded data removed]",
            "text/plain": [
              "<Figure size 1000x800 with 2 Axes>"
            ]
          },
          "metadata": {},
          "output_type": "display_data"
        }
      ],
      "source": [
        "import pandas as pd\n",
        "import matplotlib.pyplot as plt\n",
        "import seaborn as sns\n",
        "\n",
        "colors = sns.color_palette(\"RdYlGn_r\", as_cmap=True)\n",
        "\n",
        "# Create a scatter plot with color indicating the number of persons involved\n",
        "plt.figure(figsize=(10, 8))\n",
        "scatter = sns.scatterplot(data=df, x='X', y='Y', hue='VictimCount', palette=colors, s=30)\n",
        "plt.title(\"Crime Incidents Scatter Plot with Victim Count Color Coding (Red to Green)\")\n",
        "plt.xlabel(\"Longitude (X)\")\n",
        "plt.ylabel(\"Latitude (Y)\")\n",
        "\n",
        "# Create a colorbar\n",
        "sm = plt.cm.ScalarMappable(cmap=colors)\n",
        "sm.set_array([])  # This is needed for the colorbar to work\n",
        "cbar = plt.colorbar(sm, label=\"Victim Count\", ax=plt.gca())\n",
        "\n",
        "plt.show()\n"
      ]
    },
    {
      "cell_type": "markdown",
      "id": "hBXI12dkWfE7",
      "metadata": {
        "id": "hBXI12dkWfE7"
      },
      "source": [
        "* use numpy (or pandas if you like) to sort the number of crimes reported by the day of the week. What days are most frequent?"
      ]
    },
    {
      "cell_type": "code",
      "execution_count": 27,
      "id": "II65M6243iT6",
      "metadata": {
        "colab": {
          "base_uri": "https://localhost:8080/",
          "height": 617
        },
        "id": "II65M6243iT6",
        "outputId": "2768ea9e-36c4-4814-eeec-ec7818843ff4"
      },
      "outputs": [
        {
          "data": {
            "image/png": "[encoded data removed]",
            "text/plain": [
              "<Figure size 1000x600 with 1 Axes>"
            ]
          },
          "metadata": {},
          "output_type": "display_data"
        }
      ],
      "source": [
        "import pandas as pd\n",
        "import matplotlib.pyplot as plt\n",
        "\n",
        "# Group the data by day of the week and count the number of crimes for each day\n",
        "day_counts = df['DayOfWeek'].value_counts().reset_index()\n",
        "day_counts.columns = ['DayOfWeek', 'Count']\n",
        "\n",
        "# Sort the days by the count of crimes in descending order\n",
        "sorted_days = day_counts.sort_values(by='Count', ascending=False)\n",
        "\n",
        "# Create a bar chart with number of crimes printed on top of each bar\n",
        "plt.figure(figsize=(10, 6))\n",
        "bars = plt.bar(sorted_days['DayOfWeek'], sorted_days['Count'], color='skyblue')\n",
        "plt.xlabel('Day of the Week')\n",
        "plt.ylabel('Number of Crimes')\n",
        "plt.title('Most Frequent Days for Reported Crimes')\n",
        "plt.xticks(rotation=45)  # Rotate the day labels for better visibility\n",
        "\n",
        "# Print the number of crimes on top of each bar\n",
        "for bar in bars:\n",
        "    height = bar.get_height()\n",
        "    plt.annotate(f'{int(height)}',  # Convert height to integer for display\n",
        "                 xy=(bar.get_x() + bar.get_width() / 2, height),\n",
        "                 xytext=(0, 3),  # 3 points vertical offset for clean display\n",
        "                 textcoords=\"offset points\",\n",
        "                 ha='center')\n",
        "\n",
        "plt.show()\n"
      ]
    },
    {
      "cell_type": "code",
      "execution_count": 27,
      "id": "0mIr___F5B-J",
      "metadata": {
        "id": "0mIr___F5B-J"
      },
      "outputs": [],
      "source": []
    }
  ],
  "metadata": {
    "colab": {
      "provenance": []
    },
    "kernelspec": {
      "display_name": "Python 3 (ipykernel)",
      "language": "python",
      "name": "python3"
    },
    "language_info": {
      "codemirror_mode": {
        "name": "ipython",
        "version": 3
      },
      "file_extension": ".py",
      "mimetype": "text/x-python",
      "name": "python",
      "nbconvert_exporter": "python",
      "pygments_lexer": "ipython3",
      "version": "3.11.5"
    }
  },
  "nbformat": 4,
  "nbformat_minor": 5
}
